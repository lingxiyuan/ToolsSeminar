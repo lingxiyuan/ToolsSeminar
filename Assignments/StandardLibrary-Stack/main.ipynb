{
 "cells": [
  {
   "cell_type": "markdown",
   "metadata": {},
   "source": [
    "# Question3(Required) --- Stack"
   ]
  },
  {
   "cell_type": "markdown",
   "metadata": {},
   "source": [
    "## Description"
   ]
  },
  {
   "cell_type": "markdown",
   "metadata": {},
   "source": [
    "Use the `deque` to realize a `stack` class.\n",
    "\n",
    "The following listing is the abstract data structure of stack:\n",
    "\n",
    "```\n",
    "ADT Stack:\n",
    "\n",
    "  stack : () -> Stack\n",
    "  \n",
    "  is_empty : Stack -> Bool\n",
    "  \n",
    "  push : Stack * Data -> Stack\n",
    "  \n",
    "  pop : Stack -> Stack\n",
    "  \n",
    "  top : Stack -> Data\n",
    "  \n",
    "end ADT Stack\n",
    "```"
   ]
  },
  {
   "cell_type": "markdown",
   "metadata": {},
   "source": [
    "## Predefinitions"
   ]
  },
  {
   "cell_type": "markdown",
   "metadata": {},
   "source": [
    "You may use `StackUnderFlow` class to indicate errors."
   ]
  },
  {
   "cell_type": "code",
   "execution_count": null,
   "metadata": {},
   "outputs": [],
   "source": [
    "from collections import deque"
   ]
  },
  {
   "cell_type": "code",
   "execution_count": null,
   "metadata": {},
   "outputs": [],
   "source": [
    "class StackUnderFlow(Exception):\n",
    "    def __init__(self, message):\n",
    "        Exception.__init__(self)\n",
    "        self.message = message"
   ]
  },
  {
   "cell_type": "markdown",
   "metadata": {},
   "source": [
    "## Key"
   ]
  },
  {
   "cell_type": "markdown",
   "metadata": {},
   "source": [
    "Skip this part for your first reading. The key is used to generate standard output."
   ]
  },
  {
   "cell_type": "code",
   "execution_count": null,
   "metadata": {},
   "outputs": [],
   "source": [
    "class destack:\n",
    "    def __init__(self):\n",
    "        self.elems = deque()\n",
    "\n",
    "    def is_empty(self):\n",
    "        return self.elems == deque()\n",
    "\n",
    "    def push(self, elem):\n",
    "        self.elems.append(elem)\n",
    "\n",
    "    def pop(self):\n",
    "        if self.elems == deque():\n",
    "            raise StackUnderFlow(\"UnderFlowed\")\n",
    "        return self.elems.pop()\n",
    "\n",
    "    def top(self):\n",
    "        if self.elems == deque():\n",
    "            raise StackUnderFlow\n",
    "        return list(self.elems)[-1]"
   ]
  },
  {
   "cell_type": "markdown",
   "metadata": {},
   "source": [
    "## Standard output"
   ]
  },
  {
   "cell_type": "code",
   "execution_count": null,
   "metadata": {},
   "outputs": [],
   "source": [
    "s = destack()\n",
    "print(s.is_empty())\n",
    "for i in range(10):\n",
    "    s.push(i)\n",
    "print(s.is_empty())\n",
    "print(s.top())\n",
    "print(s.pop())\n",
    "print(s.top())\n",
    "try:\n",
    "    for i in range(10):\n",
    "        s.pop()\n",
    "except StackUnderFlow as suf:\n",
    "    print(\"StackUnderFlow caught\")\n",
    "    print(suf.message)"
   ]
  },
  {
   "cell_type": "markdown",
   "metadata": {},
   "source": [
    "## Your implementation"
   ]
  },
  {
   "cell_type": "code",
   "execution_count": null,
   "metadata": {},
   "outputs": [],
   "source": [
    "#Your code here"
   ]
  },
  {
   "cell_type": "markdown",
   "metadata": {},
   "source": [
    "## Test"
   ]
  },
  {
   "cell_type": "code",
   "execution_count": null,
   "metadata": {},
   "outputs": [],
   "source": [
    "s = destack()\n",
    "print(s.is_empty())\n",
    "for i in range(10):\n",
    "    s.push(i)\n",
    "print(s.is_empty())\n",
    "print(s.top())\n",
    "print(s.pop())\n",
    "print(s.top())\n",
    "try:\n",
    "    for i in range(10):\n",
    "        s.pop()\n",
    "except StackUnderFlow as suf:\n",
    "    print(\"StackUnderFlow caught\")\n",
    "    print(suf.message)"
   ]
  }
 ],
 "metadata": {
  "kernelspec": {
   "display_name": "Python 3",
   "language": "python",
   "name": "python3"
  },
  "language_info": {
   "codemirror_mode": {
    "name": "ipython",
    "version": 3
   },
   "file_extension": ".py",
   "mimetype": "text/x-python",
   "name": "python",
   "nbconvert_exporter": "python",
   "pygments_lexer": "ipython3",
   "version": "3.6.4"
  },
  "varInspector": {
   "cols": {
    "lenName": 16,
    "lenType": 16,
    "lenVar": 40
   },
   "kernels_config": {
    "python": {
     "delete_cmd_postfix": "",
     "delete_cmd_prefix": "del ",
     "library": "var_list.py",
     "varRefreshCmd": "print(var_dic_list())"
    },
    "r": {
     "delete_cmd_postfix": ") ",
     "delete_cmd_prefix": "rm(",
     "library": "var_list.r",
     "varRefreshCmd": "cat(var_dic_list()) "
    }
   },
   "types_to_exclude": [
    "module",
    "function",
    "builtin_function_or_method",
    "instance",
    "_Feature"
   ],
   "window_display": false
  }
 },
 "nbformat": 4,
 "nbformat_minor": 2
}
