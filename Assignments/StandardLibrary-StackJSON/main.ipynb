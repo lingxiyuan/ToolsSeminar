{
 "cells": [
  {
   "cell_type": "markdown",
   "metadata": {},
   "source": [
    "# Question4--- Stack and JSON"
   ]
  },
  {
   "cell_type": "markdown",
   "metadata": {},
   "source": [
    "## Description"
   ]
  },
  {
   "cell_type": "markdown",
   "metadata": {},
   "source": [
    "Serialize and deserialize an object of the stack class above to a `{}` in JSON."
   ]
  },
  {
   "cell_type": "markdown",
   "metadata": {},
   "source": [
    "## Example"
   ]
  },
  {
   "cell_type": "markdown",
   "metadata": {},
   "source": [
    "The following program serialize and deserialize an object of the Student class."
   ]
  },
  {
   "cell_type": "code",
   "execution_count": null,
   "metadata": {},
   "outputs": [],
   "source": [
    "import json\n",
    "\n",
    "\n",
    "class Student(object):\n",
    "    def __init__(self, name, age, score):\n",
    "        self.name = name\n",
    "        self.age = age\n",
    "        self.score = score\n",
    "\n",
    "\n",
    "s = Student('Bob', 20, 88)\n",
    "\n",
    "\n",
    "def student2dict(std):\n",
    "    return {\n",
    "        'name': std.name,\n",
    "        'age': std.age,\n",
    "        'score': std.score\n",
    "    }\n",
    "\n",
    "\n",
    "print(json.dumps(s, default=student2dict))\n",
    "\n",
    "\n",
    "def dict2student(d):\n",
    "    return Student(d['name'], d['age'], d['score'])\n",
    "\n",
    "\n",
    "json_str = '{\"age\": 20, \"score\": 88, \"name\": \"Bob\"}'\n",
    "stu = json.loads(json_str, object_hook=dict2student)\n",
    "print(stu, stu.name, stu.age, stu.score)"
   ]
  },
  {
   "cell_type": "markdown",
   "metadata": {},
   "source": [
    "## Predefinitions"
   ]
  },
  {
   "cell_type": "code",
   "execution_count": null,
   "metadata": {},
   "outputs": [],
   "source": [
    "from collections import deque"
   ]
  },
  {
   "cell_type": "code",
   "execution_count": null,
   "metadata": {},
   "outputs": [],
   "source": [
    "class StackUnderFlow(Exception):\n",
    "    def __init__(self, message):\n",
    "        Exception.__init__(self)\n",
    "        self.message = message"
   ]
  },
  {
   "cell_type": "code",
   "execution_count": null,
   "metadata": {},
   "outputs": [],
   "source": [
    "class destack:\n",
    "    def __init__(self):\n",
    "        self.elems = deque()\n",
    "\n",
    "    def is_empty(self):\n",
    "        return self.elems == deque()\n",
    "\n",
    "    def push(self, elem):\n",
    "        self.elems.append(elem)\n",
    "\n",
    "    def pop(self):\n",
    "        if self.elems == deque():\n",
    "            raise StackUnderFlow(\"UnderFlowed\")\n",
    "        return self.elems.pop()\n",
    "\n",
    "    def top(self):\n",
    "        if self.elems == deque():\n",
    "            raise StackUnderFlow\n",
    "        return list(self.elems)[-1]"
   ]
  },
  {
   "cell_type": "markdown",
   "metadata": {},
   "source": [
    "## Key"
   ]
  },
  {
   "cell_type": "markdown",
   "metadata": {},
   "source": [
    "Skip this part for your first reading. The key is used to generate standard output."
   ]
  },
  {
   "cell_type": "code",
   "execution_count": null,
   "metadata": {},
   "outputs": [],
   "source": [
    "def destack2dict(destk):\n",
    "    l = list(destk.elems)\n",
    "    return {i: l[i] for i in range(len(l))}\n",
    "\n",
    "\n",
    "def dict2destack(d):\n",
    "    l = [d[i] for i in d.keys()]\n",
    "    s = destack()\n",
    "    s.elems = deque(l)\n",
    "    return s"
   ]
  },
  {
   "cell_type": "markdown",
   "metadata": {},
   "source": [
    "## Standard output"
   ]
  },
  {
   "cell_type": "code",
   "execution_count": null,
   "metadata": {},
   "outputs": [],
   "source": [
    "s = destack()\n",
    "for i in range(5):\n",
    "    s.push(i)\n",
    "print(json.dumps(s, default=destack2dict))\n",
    "\n",
    "json_str = '{\"0\": 0, \"1\": 1, \"2\": 2, \"3\": 3, \"4\": 4}'\n",
    "s = json.loads(json_str, object_hook=dict2destack)\n",
    "print(s, list(s.elems))"
   ]
  },
  {
   "cell_type": "markdown",
   "metadata": {},
   "source": [
    "## Your implementation"
   ]
  },
  {
   "cell_type": "code",
   "execution_count": null,
   "metadata": {},
   "outputs": [],
   "source": [
    "#Your code here"
   ]
  },
  {
   "cell_type": "markdown",
   "metadata": {},
   "source": [
    "## Test"
   ]
  },
  {
   "cell_type": "code",
   "execution_count": null,
   "metadata": {},
   "outputs": [],
   "source": [
    "s = destack()\n",
    "for i in range(5):\n",
    "    s.push(i)\n",
    "print(json.dumps(s, default=destack2dict))\n",
    "\n",
    "json_str = '{\"0\": 0, \"1\": 1, \"2\": 2, \"3\": 3, \"4\": 4}'\n",
    "s = json.loads(json_str, object_hook=dict2destack)\n",
    "print(s, list(s.elems))"
   ]
  }
 ],
 "metadata": {
  "kernelspec": {
   "display_name": "Python 3",
   "language": "python",
   "name": "python3"
  },
  "language_info": {
   "codemirror_mode": {
    "name": "ipython",
    "version": 3
   },
   "file_extension": ".py",
   "mimetype": "text/x-python",
   "name": "python",
   "nbconvert_exporter": "python",
   "pygments_lexer": "ipython3",
   "version": "3.6.4"
  },
  "varInspector": {
   "cols": {
    "lenName": 16,
    "lenType": 16,
    "lenVar": 40
   },
   "kernels_config": {
    "python": {
     "delete_cmd_postfix": "",
     "delete_cmd_prefix": "del ",
     "library": "var_list.py",
     "varRefreshCmd": "print(var_dic_list())"
    },
    "r": {
     "delete_cmd_postfix": ") ",
     "delete_cmd_prefix": "rm(",
     "library": "var_list.r",
     "varRefreshCmd": "cat(var_dic_list()) "
    }
   },
   "types_to_exclude": [
    "module",
    "function",
    "builtin_function_or_method",
    "instance",
    "_Feature"
   ],
   "window_display": false
  }
 },
 "nbformat": 4,
 "nbformat_minor": 2
}
