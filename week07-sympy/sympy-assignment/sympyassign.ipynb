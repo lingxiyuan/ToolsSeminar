{
 "cells": [
  {
   "cell_type": "markdown",
   "metadata": {},
   "source": [
    "# Question1\n",
    "## Description\n",
    "set the printer of the interactive environment you are using (especially, jupyter notebook) to print $\\int_{2}^{\\infty} \\frac{1}{xlog^2x}dx$ in latex and then compute this integral.\n",
    "\n",
    "## Your implementation"
   ]
  },
  {
   "cell_type": "code",
   "execution_count": null,
   "metadata": {},
   "outputs": [],
   "source": [
    "from sympy import *"
   ]
  },
  {
   "cell_type": "code",
   "execution_count": null,
   "metadata": {},
   "outputs": [],
   "source": [
    "# your code\n",
    "\n"
   ]
  },
  {
   "cell_type": "markdown",
   "metadata": {},
   "source": [
    "# Question2\n",
    "\n",
    "## Description\n",
    "apply recurrence formula $I_{n}=1-n*I_{n-1}$ to calculate $I_{20}=\\frac{1}{e}\\int_{0}^{1}x^{20}e^x dx$\n",
    "with pure python and sympy, explain the difference between the answers.\n",
    "## Your implementation"
   ]
  },
  {
   "cell_type": "code",
   "execution_count": null,
   "metadata": {},
   "outputs": [],
   "source": [
    "import math\n",
    "# your code\n"
   ]
  },
  {
   "cell_type": "code",
   "execution_count": null,
   "metadata": {},
   "outputs": [],
   "source": [
    "from sympy import *\n",
    "# your code\n"
   ]
  },
  {
   "cell_type": "markdown",
   "metadata": {},
   "source": [
    "# Question3\n",
    "\n",
    "## Description\n",
    "use sympy to solve ODE $y^{'} = 0.1*(1-\\frac{y}{10000})*y$, and then plot the solution with $C=-1000,-10000, 0.3, 0.7$ (C is the constant in the solution)\n",
    "## Your implementation"
   ]
  },
  {
   "cell_type": "code",
   "execution_count": null,
   "metadata": {},
   "outputs": [],
   "source": [
    "from sympy import *\n",
    "from sympy.plotting import plot\n",
    "init_printing()\n",
    "C1=symbols('C1')#sympy use C1 to represent the constant in the answer of ODE"
   ]
  },
  {
   "cell_type": "code",
   "execution_count": null,
   "metadata": {},
   "outputs": [],
   "source": [
    "# your code\n",
    "\n"
   ]
  },
  {
   "cell_type": "markdown",
   "metadata": {},
   "source": [
    "# Question4\n",
    "\n",
    "## Description\n",
    "find the minimum point for function $f(x,y)=x^3+y^3-3x-12y$\n",
    "## Your implementation"
   ]
  },
  {
   "cell_type": "code",
   "execution_count": null,
   "metadata": {},
   "outputs": [],
   "source": [
    "from sympy import *  \n",
    "init_printing()"
   ]
  },
  {
   "cell_type": "code",
   "execution_count": null,
   "metadata": {},
   "outputs": [],
   "source": [
    "# your code\n",
    "\n"
   ]
  }
 ],
 "metadata": {
  "kernelspec": {
   "display_name": "Python 3",
   "language": "python",
   "name": "python3"
  },
  "language_info": {
   "codemirror_mode": {
    "name": "ipython",
    "version": 3
   },
   "file_extension": ".py",
   "mimetype": "text/x-python",
   "name": "python",
   "nbconvert_exporter": "python",
   "pygments_lexer": "ipython3",
   "version": "3.6.4"
  }
 },
 "nbformat": 4,
 "nbformat_minor": 2
}
