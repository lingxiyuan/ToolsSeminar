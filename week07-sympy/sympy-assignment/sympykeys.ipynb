{
 "cells": [
  {
   "cell_type": "markdown",
   "metadata": {},
   "source": [
    "# Keys"
   ]
  },
  {
   "cell_type": "markdown",
   "metadata": {},
   "source": [
    "# Question1\n",
    "## Description\n",
    "set the printer of the interactive environment you are using (especially, jupyter notebook) to print $\\int_{2}^{\\infty} \\frac{1}{xlog^2x}dx$ in latex and then compute this integral."
   ]
  },
  {
   "cell_type": "code",
   "execution_count": null,
   "metadata": {},
   "outputs": [],
   "source": [
    "from sympy import *"
   ]
  },
  {
   "cell_type": "code",
   "execution_count": null,
   "metadata": {},
   "outputs": [],
   "source": [
    "x = symbols('x')\n",
    "init_printing()\n",
    "Integral(1/(x * ln(x)**2), (x, 2, oo))"
   ]
  },
  {
   "cell_type": "code",
   "execution_count": null,
   "metadata": {},
   "outputs": [],
   "source": [
    "print(\"answer=\"+str(integrate(1/(x * ln(x)**2), (x, 2, oo))))"
   ]
  },
  {
   "cell_type": "markdown",
   "metadata": {},
   "source": [
    "# Question2\n",
    "\n",
    "## Description\n",
    "apply recurrence formula $I_{n}=1-n*I_{n-1}$ to calculate $I_{20}=\\frac{1}{e}\\int_{0}^{1}x^{20}e^x dx$\n",
    "with pure python and sympy, explain the difference between the answers."
   ]
  },
  {
   "cell_type": "code",
   "execution_count": null,
   "metadata": {},
   "outputs": [],
   "source": [
    "import math\n",
    "i = 1 - 1/math.exp(1) \n",
    "for j in range(20):\n",
    "    i = 1-(j+1)*i\n",
    "print(i)"
   ]
  },
  {
   "cell_type": "code",
   "execution_count": null,
   "metadata": {},
   "outputs": [],
   "source": [
    "from sympy import *\n",
    "x = symbols('x')\n",
    "i = integrate(exp(x),(x,0,1))/exp(1)\n",
    "for j in range(20):\n",
    "    i = 1-(j+1)*i\n",
    "print(i.evalf())"
   ]
  },
  {
   "cell_type": "markdown",
   "metadata": {},
   "source": [
    "sympy是符号计算，可以给出任意想要的精度"
   ]
  },
  {
   "cell_type": "markdown",
   "metadata": {},
   "source": [
    "# Question3\n",
    "\n",
    "## Description\n",
    " use sympy to solve ODE $y^{'} = 0.1*(1-\\frac{y}{10000})*y$, and then plot the solution with $C=-1000,-10000, 0.3, 0.7$ (C is the constant in the solution)"
   ]
  },
  {
   "cell_type": "code",
   "execution_count": null,
   "metadata": {},
   "outputs": [],
   "source": [
    "from sympy import *\n",
    "from sympy.plotting import plot\n",
    "init_printing()\n",
    "C1 = symbols('C1')#sympy use C1 to represent the constant in the solution of ODE"
   ]
  },
  {
   "cell_type": "code",
   "execution_count": null,
   "metadata": {},
   "outputs": [],
   "source": [
    "f=Function(\"f\")\n",
    "ans=dsolve(Eq(f(x).diff(x)-(1-f(x)/10000)*f(x),0),f(x))"
   ]
  },
  {
   "cell_type": "code",
   "execution_count": null,
   "metadata": {},
   "outputs": [],
   "source": [
    "ans "
   ]
  },
  {
   "cell_type": "code",
   "execution_count": null,
   "metadata": {
    "scrolled": true
   },
   "outputs": [],
   "source": [
    "plot((ans.args[1].subs(C1,-1000),(x,0,15)),\n",
    "    (ans.args[1].subs(C1,0.3),(x,0,15)),\n",
    "    (ans.args[1].subs(C1,-10000),(x,0,15)),\n",
    "    (ans.args[1].subs(C1,0.7),(x,0,15)))"
   ]
  },
  {
   "cell_type": "markdown",
   "metadata": {},
   "source": [
    "# Question4\n",
    "\n",
    "## Description\n",
    "find the minimum point for function $f(x,y)=x^3+y^3-3x-12y$\n"
   ]
  },
  {
   "cell_type": "code",
   "execution_count": null,
   "metadata": {},
   "outputs": [],
   "source": [
    "from sympy import *  \n",
    "init_printing()"
   ]
  },
  {
   "cell_type": "code",
   "execution_count": null,
   "metadata": {},
   "outputs": [],
   "source": [
    "x, y, z = symbols('x y z')\n",
    "f = x**3 + y**3 - 3*x - 12*y\n",
    "ans=solve((Eq(f.diff(x), 0), Eq(f.diff(y), 0)),x, y)\n",
    "print(ans)"
   ]
  },
  {
   "cell_type": "code",
   "execution_count": null,
   "metadata": {},
   "outputs": [],
   "source": [
    "h = hessian(f, (x, y))#作出黑塞矩阵\n",
    "for i in ans:\n",
    "    tem = h.subs([(x ,i[0]), (y, i[1])])\n",
    "    d=tem.eigenvals()\n",
    "    mini = True\n",
    "    for j in d.keys():\n",
    "        if float(j) <= 0:\n",
    "            mini = False\n",
    "    if mini:\n",
    "        print('the minimum point is ({},{})'.format(i[0],i[1]))\n"
   ]
  },
  {
   "cell_type": "code",
   "execution_count": null,
   "metadata": {},
   "outputs": [],
   "source": []
  }
 ],
 "metadata": {
  "kernelspec": {
   "display_name": "Python 3",
   "language": "python",
   "name": "python3"
  },
  "language_info": {
   "codemirror_mode": {
    "name": "ipython",
    "version": 3
   },
   "file_extension": ".py",
   "mimetype": "text/x-python",
   "name": "python",
   "nbconvert_exporter": "python",
   "pygments_lexer": "ipython3",
   "version": "3.6.4"
  }
 },
 "nbformat": 4,
 "nbformat_minor": 2
}
